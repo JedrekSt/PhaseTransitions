{
 "cells": [
  {
   "cell_type": "code",
   "execution_count": 2,
   "metadata": {},
   "outputs": [],
   "source": [
    "import numpy as np\n",
    "from matplotlib import pyplot as plt\n",
    "from itertools import combinations"
   ]
  },
  {
   "cell_type": "markdown",
   "metadata": {},
   "source": [
    "Ising Hamiltonian:\n",
    "$$\n",
    "H = -J\\sum_{j=0}^{d-1}\\vec{S}_{j}\\cdot\\vec{S}_{j+1} = -J/4 \\sum_{j=0}^{d-1}(\\sigma_{x}^{j}\\sigma_{x}^{j+1}+\\sigma_{y}^{j}\\sigma_{y}^{j+1}+\\sigma_{z}^{j}\\sigma_{z}^{j+1})\n",
    "$$\n",
    "Lets consider the computational basis:\n",
    "$$\n",
    "\\ket{\\{s_{i}\\}}\n",
    "$$\n",
    "where $i = 0,\\ldots,d-1$ and $s_{i} = \\pm 1$.\n",
    "\n",
    "We can distinguish ${n \\choose k}$ states with $k$ spins directed upward. The same is for spins directed downward. How ca we find these states that are related by translation?  \n",
    "\n"
   ]
  },
  {
   "cell_type": "code",
   "execution_count": 38,
   "metadata": {},
   "outputs": [],
   "source": [
    "class Ising_momentum:\n",
    "    def __init__(self,dim):\n",
    "        self.N = dim\n",
    "\n",
    "    def group_strings(self,k):\n",
    "        self.start_group = list(map(lambda el : list(el),combinations([i for i in range(self.N)],k)))\n",
    "        group = []\n",
    "        for i in range(len(self.start_group)):\n",
    "            el = sorted(self.start_group[i])\n",
    "            group.append([self.start_group[i]])\n",
    "            el2 = el\n",
    "            k = 0 \n",
    "            while True:\n",
    "                el2 = sorted([(i+1)%self.N for i in el2])\n",
    "                if el2 == el:\n",
    "                    k+=1\n",
    "                    break\n",
    "                else:\n",
    "                    group[k].append(el2)\n",
    "        return group\n",
    "\n"
   ]
  },
  {
   "cell_type": "code",
   "execution_count": 39,
   "metadata": {},
   "outputs": [
    {
     "data": {
      "text/plain": [
       "[[[0, 1],\n",
       "  [1, 2],\n",
       "  [2, 3],\n",
       "  [0, 3],\n",
       "  [1, 3],\n",
       "  [0, 1],\n",
       "  [1, 2],\n",
       "  [2, 3],\n",
       "  [2, 3],\n",
       "  [0, 3],\n",
       "  [0, 1],\n",
       "  [0, 2],\n",
       "  [0, 3],\n",
       "  [0, 1],\n",
       "  [1, 2]],\n",
       " [[0, 2]],\n",
       " [[0, 3]],\n",
       " [[1, 2]],\n",
       " [[1, 3]],\n",
       " [[2, 3]]]"
      ]
     },
     "execution_count": 39,
     "metadata": {},
     "output_type": "execute_result"
    }
   ],
   "source": [
    "Ising = Ising_momentum(4)\n",
    "Ising.group_strings(2)  "
   ]
  },
  {
   "cell_type": "code",
   "execution_count": 31,
   "metadata": {},
   "outputs": [
    {
     "name": "stdout",
     "output_type": "stream",
     "text": [
      "[2, 3, 4]\n"
     ]
    }
   ],
   "source": [
    "tab = [3,4,2]\n",
    "\n",
    "\n",
    "print(sorted(tab))"
   ]
  },
  {
   "cell_type": "code",
   "execution_count": null,
   "metadata": {},
   "outputs": [],
   "source": []
  }
 ],
 "metadata": {
  "kernelspec": {
   "display_name": "base",
   "language": "python",
   "name": "python3"
  },
  "language_info": {
   "codemirror_mode": {
    "name": "ipython",
    "version": 3
   },
   "file_extension": ".py",
   "mimetype": "text/x-python",
   "name": "python",
   "nbconvert_exporter": "python",
   "pygments_lexer": "ipython3",
   "version": "3.12.4"
  }
 },
 "nbformat": 4,
 "nbformat_minor": 2
}
