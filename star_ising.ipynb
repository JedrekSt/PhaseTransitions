{
 "cells": [
  {
   "cell_type": "code",
   "execution_count": 1,
   "metadata": {},
   "outputs": [],
   "source": [
    "import numpy as np\n",
    "from numpy.linalg import eig\n",
    "from matplotlib import pyplot as plt"
   ]
  },
  {
   "cell_type": "code",
   "execution_count": 2,
   "metadata": {},
   "outputs": [],
   "source": [
    "class op:\n",
    "    sx = np.array([[0,1],[1,0]])\n",
    "    sy = np.array([[0,-1j],[1j,0]])\n",
    "    sz = np.array([[1,0],[0,-1]])\n",
    "    Id = np.array([[1,0],[0,1]])\n",
    "\n",
    "    @staticmethod\n",
    "    def dag(A):\n",
    "        return np.conj(A.T)\n",
    "    \n",
    "    @staticmethod\n",
    "    def n_fold_kron(tab):\n",
    "        ans = 1\n",
    "        dim = len(tab)\n",
    "        for i in range(dim):\n",
    "            ans = np.kron(ans,tab[i])\n",
    "        return ans\n"
   ]
  },
  {
   "cell_type": "code",
   "execution_count": null,
   "metadata": {},
   "outputs": [],
   "source": [
    "class Ising_sim:\n",
    "    def __init__(self,dim,**kwargs):\n",
    "        self.dim = dim\n",
    "        self.S_ = self.Spins()\n",
    "        self.H_ = self.Hamiltonian(**kwargs)\n",
    "\n",
    "    def Spins(self):\n",
    "        s_ = lambda x_ : [op.n_fold_kron([op.Id for _ in range(j)] + [x_] + [op.Id for _ in range(j+1,self.dim)]) for j in range(self.dim)]\n",
    "        return (s_(op.sx),s_(op.sy),s_(op.sz))\n",
    "    \n",
    "    def Hamiltonian(self,**kwargs):\n",
    "        J = kwargs.get(\"J\",1)\n",
    "        h = kwargs.get(\"h\",0)\n",
    "        left = - h * sum(self.S_[2][i] for i in range(self.dim))\n",
    "        right = J * sum(sum(self.S_[k][i] @ self.S_[k][(i+1)%self.dim] for i in range(self.dim)) for k in range(3))\n",
    "        return left + right\n",
    "    \n",
    "    def Get_data(self,**kwargs):\n",
    "        T0 = kwargs.get(\"T0\",0.1)\n",
    "        Tk = kwargs.get(\"Tk\",10)\n",
    "        T = np.arange(T0,Tk,0.1)\n",
    "        E = np.real(eig(self.H_)[0])\n",
    "        U_ = lambda T_ : E @ np.exp(-E/T_) / sum(np.exp(-E/T_))\n",
    "        U_internal = np.vectorize(U_)(T)\n",
    "        Cp = np.gradient(U_internal)\n",
    "        return T,U_internal,Cp"
   ]
  },
  {
   "cell_type": "code",
   "execution_count": null,
   "metadata": {},
   "outputs": [],
   "source": [
    "model = Ising_sim(6,**{ \"J\" : 1, \"J2\" : 0})\n",
    "T,U,Cp = model.Get_data(**{\"Tk\" : 20})\n",
    "\n",
    "fig = plt.figure(figsize = (12,5))\n",
    "\n",
    "ax = fig.add_subplot(1,2,1)\n",
    "ax.plot(T,U,color = \"red\",alpha = 0.5,lw = 3)\n",
    "ax.set_xlabel(\"T\")\n",
    "ax.set_ylabel(\"U\")\n",
    "ax.set_title(\"Internal energy of the system\")\n",
    "ax.grid(True)\n",
    "\n",
    "ax = fig.add_subplot(1,2,2)\n",
    "ax.plot(T,Cp,color = \"blue\", alpha = 0.5,lw = 3)\n",
    "ax.set_xlabel(\"T\")\n",
    "ax.set_ylabel(r\"$\\frac{\\partial U}{\\partial T}$\")\n",
    "ax.set_title(\"Heat capacity of the system\")\n",
    "ax.grid(True)\n",
    "\n",
    "plt.show()\n"
   ]
  },
  {
   "cell_type": "code",
   "execution_count": null,
   "metadata": {},
   "outputs": [],
   "source": [
    "class Ising_sim_star(Ising_sim):\n",
    "    def Hamiltonian(self,**kwargs):\n",
    "        J2 = kwargs.get(\"J2\",kwargs.get(\"J\",1))\n",
    "        h = kwargs.get(\"h\",0)\n",
    "        H0 = np.kron(super().Hamiltonian(**kwargs),np.eye(2**self.dim))\n",
    "        H1 = J2 * sum(sum(np.kron(self.S_[k][i],(self.S_[k][i]+self.S_[k][(i+1)%self.dim])) for i in range(self.dim)) for k in range(3))\n",
    "        H2 = - h * sum(np.kron(np.eye(2**self.dim),self.S_[2][i]) for i in range(self.dim))\n",
    "        return H0 + H1 + H2 \n",
    "\n",
    "\n",
    "        "
   ]
  },
  {
   "cell_type": "code",
   "execution_count": null,
   "metadata": {},
   "outputs": [],
   "source": [
    "model = Ising_sim_star(6,**{ \"J\" : 1, \"J2\" : 1/2})\n",
    "T,U,Cp = model.Get_data(**{\"Tk\" : 20})\n",
    "\n",
    "fig = plt.figure(figsize = (12,5))\n",
    "\n",
    "ax = fig.add_subplot(1,2,1)\n",
    "ax.plot(T,U,color = \"red\",alpha = 0.5,lw = 3)\n",
    "ax.set_xlabel(\"T\")\n",
    "ax.set_ylabel(\"U\")\n",
    "ax.set_title(\"Internal energy of the system\")\n",
    "ax.grid(True)\n",
    "\n",
    "ax = fig.add_subplot(1,2,2)\n",
    "ax.plot(T,Cp,color = \"blue\", alpha = 0.5,lw = 3)\n",
    "ax.set_xlabel(\"T\")\n",
    "ax.set_ylabel(r\"$\\frac{\\partial U}{\\partial T}$\")\n",
    "ax.set_title(\"Heat capacity of the system\")\n",
    "ax.grid(True)\n",
    "\n",
    "plt.show()"
   ]
  }
 ],
 "metadata": {
  "kernelspec": {
   "display_name": "base",
   "language": "python",
   "name": "python3"
  },
  "language_info": {
   "codemirror_mode": {
    "name": "ipython",
    "version": 3
   },
   "file_extension": ".py",
   "mimetype": "text/x-python",
   "name": "python",
   "nbconvert_exporter": "python",
   "pygments_lexer": "ipython3",
   "version": "3.12.4"
  }
 },
 "nbformat": 4,
 "nbformat_minor": 2
}
